{
 "cells": [
  {
   "cell_type": "markdown",
   "metadata": {},
   "source": [
    "<a id='intro'></a>\n",
    "## INTRODUCTION\n",
    "> These data which are going to be anlyzed are about movies with large no. of features and records. There are diferent features describing the movie like popularity score, title,  genre, date, vote-score, .... etc. 9000+ Movies Dataset.\n",
    "#### Variables:\n",
    "> it Contains small no of variables like the main dataframe holding the movies which is \"movies_df\", and there other variables helps with visualizations.\n",
    "#### Main Features:\n",
    "> popularity: Score measures the popularity of the movie\n",
    "\n",
    "> title: Title of the movie\n",
    "\n",
    "> genres: movie genres splitted by \",\"\n",
    "\n",
    "> votescore: Score measures the score of the movie based on rating from users\n",
    "\n",
    "> Release_Date: Date when the movie was released.\n",
    "\n",
    "> Original_Language: Original language of the movies. Dubbed version is not considered to be original language.\n",
    "\n",
    "## INTERESTING QUESTIONS & ASSUMPTIONS:\n",
    "\n",
    "> **1-** What genre are the most in our dataset? [Genre Distribution over data]\n",
    "\n",
    "> **2-** What kind of films got the highest vote-score? [No explicit assumptions to make, but it might be family movies]\n",
    "\n",
    "> **3-** Tracking the movies release years, which year got the most movies in it? [It will be in the new generation of course, 2000s].\n",
    "\n",
    "> **4-** Does the number of the films over the year are affected by the month? [It might be something between month 7 and 10].\n",
    "\n",
    "> **5-** Which movies got the most number of views? [No explicit feature there to make that decision but we can handle it with popularity and vote count feature as an alternative.]\n",
    "\n",
    "> **6-** Which language seems to be high-voted for movies?\n",
    "\n",
    "#### We hopefully are  trying to answer these questions using data anlaysis process."
   ]
  },
  {
   "cell_type": "markdown",
   "metadata": {},
   "source": [
    "<a id='intro'></a>\n",
    "## Importing Packages"
   ]
  },
  {
   "cell_type": "code",
   "execution_count": 37,
   "metadata": {},
   "outputs": [],
   "source": [
    "# First step to import the related packages like pandas: working with dataframes and data, numpy: for any kind...\n",
    "# of mathematical functions or something, matplotlib, and seaborn: for visualizations\n",
    "import pandas as pd\n",
    "import numpy as np\n",
    "import matplotlib.pyplot as plt\n",
    "import seaborn as sns\n",
    "%matplotlib inline \n",
    "sns.set_style('darkgrid')\n",
    "\n",
    "import warnings\n",
    "warnings.filterwarnings(action='ignore') # To ignore warnings for better view"
   ]
  },
  {
   "cell_type": "code",
   "execution_count": 38,
   "metadata": {},
   "outputs": [],
   "source": [
    "#Reading the data in csv (comma-seperated values) extension\n",
    "movies_df = pd.read_csv('mymoviedb.csv', lineterminator='\\n')"
   ]
  },
  {
   "cell_type": "code",
   "execution_count": 39,
   "metadata": {},
   "outputs": [
    {
     "data": {
      "text/html": [
       "<div>\n",
       "<style scoped>\n",
       "    .dataframe tbody tr th:only-of-type {\n",
       "        vertical-align: middle;\n",
       "    }\n",
       "\n",
       "    .dataframe tbody tr th {\n",
       "        vertical-align: top;\n",
       "    }\n",
       "\n",
       "    .dataframe thead th {\n",
       "        text-align: right;\n",
       "    }\n",
       "</style>\n",
       "<table border=\"1\" class=\"dataframe\">\n",
       "  <thead>\n",
       "    <tr style=\"text-align: right;\">\n",
       "      <th></th>\n",
       "      <th>Release_Date</th>\n",
       "      <th>Title</th>\n",
       "      <th>Overview</th>\n",
       "      <th>Popularity</th>\n",
       "      <th>Vote_Count</th>\n",
       "      <th>Vote_Average</th>\n",
       "      <th>Original_Language</th>\n",
       "      <th>Genre</th>\n",
       "      <th>Poster_Url</th>\n",
       "    </tr>\n",
       "  </thead>\n",
       "  <tbody>\n",
       "    <tr>\n",
       "      <th>0</th>\n",
       "      <td>2021-12-15</td>\n",
       "      <td>Spider-Man: No Way Home</td>\n",
       "      <td>Peter Parker is unmasked and no longer able to...</td>\n",
       "      <td>5083.954</td>\n",
       "      <td>8940</td>\n",
       "      <td>8.3</td>\n",
       "      <td>en</td>\n",
       "      <td>Action, Adventure, Science Fiction</td>\n",
       "      <td>https://image.tmdb.org/t/p/original/1g0dhYtq4i...</td>\n",
       "    </tr>\n",
       "    <tr>\n",
       "      <th>1</th>\n",
       "      <td>2022-03-01</td>\n",
       "      <td>The Batman</td>\n",
       "      <td>In his second year of fighting crime, Batman u...</td>\n",
       "      <td>3827.658</td>\n",
       "      <td>1151</td>\n",
       "      <td>8.1</td>\n",
       "      <td>en</td>\n",
       "      <td>Crime, Mystery, Thriller</td>\n",
       "      <td>https://image.tmdb.org/t/p/original/74xTEgt7R3...</td>\n",
       "    </tr>\n",
       "    <tr>\n",
       "      <th>2</th>\n",
       "      <td>2022-02-25</td>\n",
       "      <td>No Exit</td>\n",
       "      <td>Stranded at a rest stop in the mountains durin...</td>\n",
       "      <td>2618.087</td>\n",
       "      <td>122</td>\n",
       "      <td>6.3</td>\n",
       "      <td>en</td>\n",
       "      <td>Thriller</td>\n",
       "      <td>https://image.tmdb.org/t/p/original/vDHsLnOWKl...</td>\n",
       "    </tr>\n",
       "  </tbody>\n",
       "</table>\n",
       "</div>"
      ],
      "text/plain": [
       "  Release_Date                    Title  \\\n",
       "0   2021-12-15  Spider-Man: No Way Home   \n",
       "1   2022-03-01               The Batman   \n",
       "2   2022-02-25                  No Exit   \n",
       "\n",
       "                                            Overview  Popularity  Vote_Count  \\\n",
       "0  Peter Parker is unmasked and no longer able to...    5083.954        8940   \n",
       "1  In his second year of fighting crime, Batman u...    3827.658        1151   \n",
       "2  Stranded at a rest stop in the mountains durin...    2618.087         122   \n",
       "\n",
       "   Vote_Average Original_Language                               Genre  \\\n",
       "0           8.3                en  Action, Adventure, Science Fiction   \n",
       "1           8.1                en            Crime, Mystery, Thriller   \n",
       "2           6.3                en                            Thriller   \n",
       "\n",
       "                                          Poster_Url  \n",
       "0  https://image.tmdb.org/t/p/original/1g0dhYtq4i...  \n",
       "1  https://image.tmdb.org/t/p/original/74xTEgt7R3...  \n",
       "2  https://image.tmdb.org/t/p/original/vDHsLnOWKl...  "
      ]
     },
     "execution_count": 39,
     "metadata": {},
     "output_type": "execute_result"
    }
   ],
   "source": [
    "# Previening the data for better intutions\n",
    "movies_df.head(3)"
   ]
  },
  {
   "cell_type": "markdown",
   "metadata": {},
   "source": [
    "### Preview Data Types and null Values"
   ]
  },
  {
   "cell_type": "code",
   "execution_count": 40,
   "metadata": {},
   "outputs": [
    {
     "name": "stdout",
     "output_type": "stream",
     "text": [
      "<class 'pandas.core.frame.DataFrame'>\n",
      "RangeIndex: 9827 entries, 0 to 9826\n",
      "Data columns (total 9 columns):\n",
      "Release_Date         9827 non-null object\n",
      "Title                9827 non-null object\n",
      "Overview             9827 non-null object\n",
      "Popularity           9827 non-null float64\n",
      "Vote_Count           9827 non-null int64\n",
      "Vote_Average         9827 non-null float64\n",
      "Original_Language    9827 non-null object\n",
      "Genre                9827 non-null object\n",
      "Poster_Url           9827 non-null object\n",
      "dtypes: float64(2), int64(1), object(6)\n",
      "memory usage: 691.0+ KB\n"
     ]
    }
   ],
   "source": [
    "# Informations of each column like datatype and no. non-null values\n",
    "movies_df.info()"
   ]
  },
  {
   "cell_type": "markdown",
   "metadata": {},
   "source": [
    "- From the above dataframe for info function, we didnt found any columns to drop with too much null values as the dataset seems to be very neat and clean, but we gonna drop some of them are out of our interest in this analysis like 'Overview', 'Poster_Url'. for the object release-date, it have to be turned into datetime datetype."
   ]
  },
  {
   "cell_type": "markdown",
   "metadata": {},
   "source": [
    "<a id='Questions'></a>\n",
    "## Questions Stated\n",
    "\n",
    "> **1-** What genre are the most in our dataset? \n",
    "\n",
    "> **2-** What kind of films got the highest vote-score? \n",
    "\n",
    "> **3-** Tracking the movies release years, which year got the most movies in it? \n",
    "\n",
    "> **4-** Does the number of the films over the year are affected by the month? \n",
    "\n",
    "> **5-** Which movies got the most number of views? \n",
    "\n",
    "> **6-** Which language seems to be high-voted for movies?"
   ]
  },
  {
   "cell_type": "markdown",
   "metadata": {},
   "source": [
    "\n",
    "## Data Wrangling\n",
    " - For our Data we will drop 'Overview', 'Poster_Url' as they are not useful for our questions stated above.\n",
    " - For problems with data types we found only one problem with release_date which have to be converted datetime datatype rather than object. Then we will rename that column to be release_month instead of release_date as it is related to our questions stated.\n",
    " - For genres, it seems to be the main genre of the movie to be the first one, so we decided to remove any other genre after the sign ' , '.\n",
    "\n"
   ]
  },
  {
   "cell_type": "code",
   "execution_count": 41,
   "metadata": {},
   "outputs": [],
   "source": [
    "# After selecting some columns to eliminate by using drop function on our dataframe and keep changes.\n",
    "movies_df.drop(columns= ['Overview', 'Poster_Url']\n",
    "        , axis= 1, inplace= True)"
   ]
  },
  {
   "cell_type": "code",
   "execution_count": 42,
   "metadata": {},
   "outputs": [],
   "source": [
    "# dropna with axis 0, used to drop all rows with null values.\n",
    "movies_df.dropna(axis= 0, inplace= True)"
   ]
  },
  {
   "cell_type": "code",
   "execution_count": 43,
   "metadata": {},
   "outputs": [],
   "source": [
    "# In genre column we are going to take only first genre and eliminate all other using split function\n",
    "movies_df['Genre'] = movies_df['Genre'].apply(lambda x: x.split(',')[0])"
   ]
  },
  {
   "cell_type": "code",
   "execution_count": 44,
   "metadata": {},
   "outputs": [],
   "source": [
    "# To check wether there null values or not using the useful function Assert \n",
    "assert movies_df.isnull().sum().sum() == 0"
   ]
  },
  {
   "cell_type": "code",
   "execution_count": 45,
   "metadata": {},
   "outputs": [],
   "source": [
    "# Eliminating all duplicated rows with drop_duplicates\n",
    "movies_df.drop_duplicates(inplace= True)"
   ]
  },
  {
   "cell_type": "code",
   "execution_count": 46,
   "metadata": {},
   "outputs": [],
   "source": [
    "# To check wether there duplicated rows or not \n",
    "assert movies_df.duplicated().sum() == 0"
   ]
  },
  {
   "cell_type": "markdown",
   "metadata": {},
   "source": [
    "- with these two assertions we validate our data from being unduplicated or having zero null values."
   ]
  },
  {
   "cell_type": "code",
   "execution_count": 47,
   "metadata": {},
   "outputs": [],
   "source": [
    "# converting release_date to be datetime datatype rather than object datatype\n",
    "movies_df.Release_Date = pd.to_datetime(movies_df.Release_Date)"
   ]
  },
  {
   "cell_type": "markdown",
   "metadata": {},
   "source": [
    "- After converting Release_Date to be datetime datatype rather than object datatype then we will change it's name to be release_month which is integer datatype and add another column called release_year"
   ]
  },
  {
   "cell_type": "code",
   "execution_count": 48,
   "metadata": {},
   "outputs": [],
   "source": [
    "# Add a new column with release year as a feature\n",
    "movies_df['release_year'] = movies_df.Release_Date.dt.year"
   ]
  },
  {
   "cell_type": "code",
   "execution_count": 49,
   "metadata": {},
   "outputs": [],
   "source": [
    "# Changing it's name to be release_month which is integer datatype After extracting only integer month from the date\n",
    "movies_df.Release_Date = movies_df.Release_Date.dt.month\n",
    "movies_df.rename(columns= {'Release_Date': 'release_month'}, inplace=True)"
   ]
  },
  {
   "cell_type": "code",
   "execution_count": 51,
   "metadata": {},
   "outputs": [
    {
     "data": {
      "text/plain": [
       "10    1024\n",
       "9      993\n",
       "12     927\n",
       "8      885\n",
       "3      868\n",
       "7      802\n",
       "11     789\n",
       "2      788\n",
       "6      768\n",
       "4      669\n",
       "5      665\n",
       "1      649\n",
       "Name: release_month, dtype: int64"
      ]
     },
     "execution_count": 51,
     "metadata": {},
     "output_type": "execute_result"
    }
   ],
   "source": [
    "# Make a simple distribution for release_month column for better intutions.\n",
    "movies_df.release_month.value_counts()"
   ]
  },
  {
   "cell_type": "code",
   "execution_count": 62,
   "metadata": {},
   "outputs": [
    {
     "data": {
      "text/html": [
       "<div>\n",
       "<style scoped>\n",
       "    .dataframe tbody tr th:only-of-type {\n",
       "        vertical-align: middle;\n",
       "    }\n",
       "\n",
       "    .dataframe tbody tr th {\n",
       "        vertical-align: top;\n",
       "    }\n",
       "\n",
       "    .dataframe thead th {\n",
       "        text-align: right;\n",
       "    }\n",
       "</style>\n",
       "<table border=\"1\" class=\"dataframe\">\n",
       "  <thead>\n",
       "    <tr style=\"text-align: right;\">\n",
       "      <th></th>\n",
       "      <th>release_month</th>\n",
       "      <th>Title</th>\n",
       "      <th>Popularity</th>\n",
       "      <th>Vote_Count</th>\n",
       "      <th>Vote_Average</th>\n",
       "      <th>Original_Language</th>\n",
       "      <th>Genre</th>\n",
       "      <th>release_year</th>\n",
       "    </tr>\n",
       "  </thead>\n",
       "  <tbody>\n",
       "    <tr>\n",
       "      <th>0</th>\n",
       "      <td>12</td>\n",
       "      <td>Spider-Man: No Way Home</td>\n",
       "      <td>5083.954</td>\n",
       "      <td>8940</td>\n",
       "      <td>8.3</td>\n",
       "      <td>en</td>\n",
       "      <td>Action</td>\n",
       "      <td>2021</td>\n",
       "    </tr>\n",
       "    <tr>\n",
       "      <th>1</th>\n",
       "      <td>3</td>\n",
       "      <td>The Batman</td>\n",
       "      <td>3827.658</td>\n",
       "      <td>1151</td>\n",
       "      <td>8.1</td>\n",
       "      <td>en</td>\n",
       "      <td>Crime</td>\n",
       "      <td>2022</td>\n",
       "    </tr>\n",
       "    <tr>\n",
       "      <th>2</th>\n",
       "      <td>2</td>\n",
       "      <td>No Exit</td>\n",
       "      <td>2618.087</td>\n",
       "      <td>122</td>\n",
       "      <td>6.3</td>\n",
       "      <td>en</td>\n",
       "      <td>Thriller</td>\n",
       "      <td>2022</td>\n",
       "    </tr>\n",
       "  </tbody>\n",
       "</table>\n",
       "</div>"
      ],
      "text/plain": [
       "   release_month                    Title  Popularity  Vote_Count  \\\n",
       "0             12  Spider-Man: No Way Home    5083.954        8940   \n",
       "1              3               The Batman    3827.658        1151   \n",
       "2              2                  No Exit    2618.087         122   \n",
       "\n",
       "   Vote_Average Original_Language     Genre  release_year  \n",
       "0           8.3                en    Action          2021  \n",
       "1           8.1                en     Crime          2022  \n",
       "2           6.3                en  Thriller          2022  "
      ]
     },
     "execution_count": 62,
     "metadata": {},
     "output_type": "execute_result"
    }
   ],
   "source": [
    "# New Form of the cleaned and wragled data\n",
    "movies_df.head(3)"
   ]
  },
  {
   "cell_type": "code",
   "execution_count": 63,
   "metadata": {},
   "outputs": [
    {
     "data": {
      "text/html": [
       "<div>\n",
       "<style scoped>\n",
       "    .dataframe tbody tr th:only-of-type {\n",
       "        vertical-align: middle;\n",
       "    }\n",
       "\n",
       "    .dataframe tbody tr th {\n",
       "        vertical-align: top;\n",
       "    }\n",
       "\n",
       "    .dataframe thead th {\n",
       "        text-align: right;\n",
       "    }\n",
       "</style>\n",
       "<table border=\"1\" class=\"dataframe\">\n",
       "  <thead>\n",
       "    <tr style=\"text-align: right;\">\n",
       "      <th></th>\n",
       "      <th>release_month</th>\n",
       "      <th>Popularity</th>\n",
       "      <th>Vote_Count</th>\n",
       "      <th>Vote_Average</th>\n",
       "      <th>release_year</th>\n",
       "    </tr>\n",
       "  </thead>\n",
       "  <tbody>\n",
       "    <tr>\n",
       "      <th>count</th>\n",
       "      <td>9827.000000</td>\n",
       "      <td>9827.000000</td>\n",
       "      <td>9827.000000</td>\n",
       "      <td>9827.000000</td>\n",
       "      <td>9827.000000</td>\n",
       "    </tr>\n",
       "    <tr>\n",
       "      <th>mean</th>\n",
       "      <td>6.829348</td>\n",
       "      <td>40.326088</td>\n",
       "      <td>1392.805536</td>\n",
       "      <td>6.439534</td>\n",
       "      <td>2006.203623</td>\n",
       "    </tr>\n",
       "    <tr>\n",
       "      <th>std</th>\n",
       "      <td>3.435706</td>\n",
       "      <td>108.873998</td>\n",
       "      <td>2611.206907</td>\n",
       "      <td>1.129759</td>\n",
       "      <td>15.685554</td>\n",
       "    </tr>\n",
       "    <tr>\n",
       "      <th>min</th>\n",
       "      <td>1.000000</td>\n",
       "      <td>13.354000</td>\n",
       "      <td>0.000000</td>\n",
       "      <td>0.000000</td>\n",
       "      <td>1902.000000</td>\n",
       "    </tr>\n",
       "    <tr>\n",
       "      <th>25%</th>\n",
       "      <td>4.000000</td>\n",
       "      <td>16.128500</td>\n",
       "      <td>146.000000</td>\n",
       "      <td>5.900000</td>\n",
       "      <td>2000.000000</td>\n",
       "    </tr>\n",
       "    <tr>\n",
       "      <th>50%</th>\n",
       "      <td>7.000000</td>\n",
       "      <td>21.199000</td>\n",
       "      <td>444.000000</td>\n",
       "      <td>6.500000</td>\n",
       "      <td>2011.000000</td>\n",
       "    </tr>\n",
       "    <tr>\n",
       "      <th>75%</th>\n",
       "      <td>10.000000</td>\n",
       "      <td>35.191500</td>\n",
       "      <td>1376.000000</td>\n",
       "      <td>7.100000</td>\n",
       "      <td>2017.000000</td>\n",
       "    </tr>\n",
       "    <tr>\n",
       "      <th>max</th>\n",
       "      <td>12.000000</td>\n",
       "      <td>5083.954000</td>\n",
       "      <td>31077.000000</td>\n",
       "      <td>10.000000</td>\n",
       "      <td>2024.000000</td>\n",
       "    </tr>\n",
       "  </tbody>\n",
       "</table>\n",
       "</div>"
      ],
      "text/plain": [
       "       release_month   Popularity    Vote_Count  Vote_Average  release_year\n",
       "count    9827.000000  9827.000000   9827.000000   9827.000000   9827.000000\n",
       "mean        6.829348    40.326088   1392.805536      6.439534   2006.203623\n",
       "std         3.435706   108.873998   2611.206907      1.129759     15.685554\n",
       "min         1.000000    13.354000      0.000000      0.000000   1902.000000\n",
       "25%         4.000000    16.128500    146.000000      5.900000   2000.000000\n",
       "50%         7.000000    21.199000    444.000000      6.500000   2011.000000\n",
       "75%        10.000000    35.191500   1376.000000      7.100000   2017.000000\n",
       "max        12.000000  5083.954000  31077.000000     10.000000   2024.000000"
      ]
     },
     "execution_count": 63,
     "metadata": {},
     "output_type": "execute_result"
    }
   ],
   "source": [
    "movies_df.describe()\n",
    "# All numeric values are appropriate as there's no outliers from Mars here, so it's reliefed for now."
   ]
  },
  {
   "cell_type": "markdown",
   "metadata": {},
   "source": [
    "### Functions to be Used:"
   ]
  },
  {
   "cell_type": "code",
   "execution_count": 98,
   "metadata": {},
   "outputs": [],
   "source": [
    "# Cummulative Distribution Function CDF\n",
    "def cdf(x, xlabel, ylabel, title):\n",
    "    \"\"\"\" \n",
    "    cdf plot the Cumulative Distribution Functions for a given x series or list .\n",
    "\n",
    "    :x: the given series which is going to be plotted (CDF Distribution)\n",
    "    :xlabel: x-axis label\n",
    "    :ylabel: y-axis label\n",
    "    :title: title of the plot\n",
    "    :return: no values to be returned but a cdf plot \n",
    "    \"\"\"\n",
    "\n",
    "    # No of data points used\n",
    "    N = len(x)\n",
    "    # sort the data in ascending order\n",
    "    x = np.sort(x)\n",
    "\n",
    "    # get the cdf values of y\n",
    "    y = np.arange(N) / float(N)\n",
    "\n",
    "    # plotting\n",
    "    plt.xlabel(xlabel)\n",
    "    plt.ylabel(ylabel)\n",
    "    plt.title(title)\n",
    "    plt.plot(x, y, marker='_')\n",
    "    plt.show()\n",
    "# Probability Mass Function pmf\n",
    "def pmf(x, xlabel, title): \n",
    "    val, cnt = np.unique(x, return_counts=True)\n",
    "    prop = cnt / len(x)\n",
    "\n",
    "    plt.bar(val, prop)\n",
    "    plt.ylabel(\"Probability\")\n",
    "    plt.xlabel(xlabel)\n",
    "    plt.title(title)\n",
    "    plt.show()\n",
    "    \n",
    "# Creating a function for scatter plots with specific options.\n",
    "def plot_scatter(x, y, xlabel, ylabel, title):\n",
    "    plt.figure(figsize= (15,6))\n",
    "    plt.scatter(x, y, alpha= 1)\n",
    "    plt.xlabel(xlabel)\n",
    "    plt.ylabel(ylabel)\n",
    "    plt.title(title)\n",
    "    plt.show()\n",
    "\n",
    "def Groupby_plot(column, MeanColumn,ylabel ,title):\n",
    "    \"\"\"\" \n",
    "    groupby a colum with churn value and plotting \n",
    "\n",
    "    :coulmn: the given series which is going to be plotted\n",
    "    :ylabel: y-axis label\n",
    "    :title: title of the plot\n",
    "    :return: no values to be returned but a plot \n",
    "    \"\"\"\n",
    "    gb = movies_df.groupby(column)\n",
    "    gb_2 = gb[MeanColumn].mean()\n",
    "    gb_2.plot(kind = 'bar', figsize=(10, 5))\n",
    "    plt.ylabel(ylabel)\n",
    "    plt.title(title)\n",
    "    plt.show()"
   ]
  },
  {
   "cell_type": "markdown",
   "metadata": {},
   "source": [
    "<a id='eda'></a>\n",
    "## Exploratory Data Analysis"
   ]
  },
  {
   "cell_type": "code",
   "execution_count": 103,
   "metadata": {},
   "outputs": [
    {
     "data": {
      "image/png": "[encoded data removed]",
      "text/plain": [
       "<Figure size 720x360 with 1 Axes>"
      ]
     },
     "metadata": {},
     "output_type": "display_data"
    }
   ],
   "source": [
    "Groupby_plot('Genre', 'Popularity', 'Popularity', 'Genre with Popularity (Mean)')"
   ]
  },
  {
   "cell_type": "markdown",
   "metadata": {},
   "source": [
    "> For the first question we can see that all movies mean popularity are almost the same except for three movies tends to be high over years, like Animation (Most), SciFi, Action. Which is good for filmmakers to know before they invest in movies."
   ]
  },
  {
   "cell_type": "code",
   "execution_count": 110,
   "metadata": {},
   "outputs": [
    {
     "data": {
      "image/png": "[encoded data removed]",
      "text/plain": [
       "<Figure size 720x360 with 1 Axes>"
      ]
     },
     "metadata": {},
     "output_type": "display_data"
    }
   ],
   "source": [
    "Groupby_plot('Genre', 'Vote_Average', 'Vote Score', 'Genre with Vote-Score (Mean)')"
   ]
  },
  {
   "cell_type": "markdown",
   "metadata": {},
   "source": [
    "> For the second question about which genre got the most vote score, we got that no correlation for that, looks like evrey movies genre got the same average score about 6, but the only one hits 7 is War movies as it's so emotional for everyone which make a great chance to get high score."
   ]
  },
  {
   "cell_type": "markdown",
   "metadata": {},
   "source": [
    "- It's a fact which may be known for anyone and validated with the following figure that with years moving also the number of movies increases more and more with non-stop curve."
   ]
  },
  {
   "cell_type": "code",
   "execution_count": 72,
   "metadata": {},
   "outputs": [
    {
     "data": {
      "image/png": "[encoded data removed]",
      "text/plain": [
       "<Figure size 720x360 with 1 Axes>"
      ]
     },
     "metadata": {},
     "output_type": "display_data"
    }
   ],
   "source": [
    "# Release year distribution using catplot, diffrent colors for diffrent frequncies.\n",
    "with sns.axes_style('white'):\n",
    "    g = sns.catplot(x = \"release_year\", data=movies_df, aspect=2,\n",
    "                       kind=\"count\")\n",
    "    g.set_xticklabels(step=5)\n",
    "    plt.xlabel('Release Year', fontsize=12)\n",
    "    plt.ylabel('Number of Movies', fontsize=12)\n",
    "    plt.title('Release Year Distribution', fontsize=15)\n",
    "    plt.show()"
   ]
  },
  {
   "cell_type": "code",
   "execution_count": 71,
   "metadata": {},
   "outputs": [
    {
     "data": {
      "image/png": "[encoded data removed]",
      "text/plain": [
       "<Figure size 432x288 with 1 Axes>"
      ]
     },
     "metadata": {},
     "output_type": "display_data"
    }
   ],
   "source": [
    "cdf(movies_df.release_year, 'Release Year', 'CDF', 'Cumulative Distribution Function for Release Year')"
   ]
  },
  {
   "cell_type": "markdown",
   "metadata": {},
   "source": [
    "> From the above graph we can ensure what we assumed before about movies being increased year by year, at the begining for the curve the slope seemed to be not steep at all, but after 2000s about of 80 percent of the movies in the whole data exist. "
   ]
  },
  {
   "cell_type": "code",
   "execution_count": 122,
   "metadata": {},
   "outputs": [
    {
     "name": "stdout",
     "output_type": "stream",
     "text": [
      "Max number of movies is 714 in the year of 2021 \n"
     ]
    }
   ],
   "source": [
    "max_num_movies = movies_df.release_year.value_counts().max()\n",
    "print('Max number of movies is ' + str(max_num_movies) + ' in the year of 2021 ')"
   ]
  },
  {
   "cell_type": "markdown",
   "metadata": {},
   "source": [
    "> So for question 3 Most number of movies is in 2021 with 714 movies exists"
   ]
  },
  {
   "cell_type": "code",
   "execution_count": 120,
   "metadata": {},
   "outputs": [
    {
     "data": {
      "image/png": "[encoded data removed]",
      "text/plain": [
       "<Figure size 720x360 with 1 Axes>"
      ]
     },
     "metadata": {},
     "output_type": "display_data"
    }
   ],
   "source": [
    "VC_ReleaseMonth = movies_df.release_month.value_counts().sort_index()  # Value counts for release month movies [Sorted]\n",
    "VC_ReleaseMonth.plot(kind = 'bar',  figsize=(10, 5))\n",
    "plt.xlabel('Month [Sorted]')\n",
    "plt.ylabel('Number of Movies')\n",
    "plt.title('Number of Movies with Month')\n",
    "plt.show()"
   ]
  },
  {
   "cell_type": "markdown",
   "metadata": {},
   "source": [
    "> Does the number of the films over the year are affected by the month? [It might be something between month 7 and 10].\n",
    "Month 9 and 10 is the most, but which makes median is 7 and mean as well, as the month 1,4,5 is lower than average which makes 7 is the median."
   ]
  },
  {
   "cell_type": "code",
   "execution_count": 91,
   "metadata": {},
   "outputs": [
    {
     "data": {
      "image/png": "[encoded data removed]",
      "text/plain": [
       "<Figure size 1080x432 with 1 Axes>"
      ]
     },
     "metadata": {},
     "output_type": "display_data"
    }
   ],
   "source": [
    "# Using Scatter plot function created to make it between year of release and poularity to check for any correlation\n",
    "x = movies_df.release_year\n",
    "y = movies_df.Popularity\n",
    "xlabel = 'Release Year'\n",
    "ylabel = 'Popularity'\n",
    "title = 'Popularity with Release Year'\n",
    "plot_scatter(x,y,xlabel,ylabel, title)"
   ]
  },
  {
   "cell_type": "markdown",
   "metadata": {},
   "source": [
    "-  It seems like with the release year increasing the popularity inceases as well, for new years they have also low popularity movies but for new years it have mode value for popularity more than early days.\n",
    "- For the curve above we cannot say explicitly with years moving popularity increased, but the extra popular not exists except after 2000s , which means that some movies shows make a great popularity above the average."
   ]
  },
  {
   "cell_type": "code",
   "execution_count": 156,
   "metadata": {},
   "outputs": [
    {
     "name": "stdout",
     "output_type": "stream",
     "text": [
      "The most Vote counts Movies are ['Inception' 'Interstellar' 'The Dark Knight' 'The Avengers' 'Deadpool']\n"
     ]
    }
   ],
   "source": [
    "# Get the title of the most vote counts movies \n",
    "print('The most Vote counts Movies are ' + str(movies_df.sort_values(by = 'Vote_Count', ascending= False).Title[:5].values))"
   ]
  },
  {
   "cell_type": "code",
   "execution_count": 157,
   "metadata": {},
   "outputs": [
    {
     "name": "stdout",
     "output_type": "stream",
     "text": [
      "The most Popular Movies are ['Spider-Man: No Way Home' 'The Batman' 'No Exit' 'Encanto'\n",
      " \"The King's Man\"]\n"
     ]
    }
   ],
   "source": [
    "# Get the title of the most Popular movies \n",
    "print('The most Popular Movies are ' + str(movies_df.sort_values(by = 'Popularity', ascending= False).Title[:5].values))"
   ]
  },
  {
   "cell_type": "markdown",
   "metadata": {},
   "source": [
    "> **5-** Which movies got the most number of views?  Question\n",
    "\n",
    "> From the above two arrays we got that if we count most viewed with popularity and vote counts we got two diffrent arrays, and this indicates that with votecounts they are very high quality movies regardless the revenue, but with popularity quality doesnt matter, it seems revenue which makes the popularity term is high (so Most viewed movies as well).  "
   ]
  },
  {
   "cell_type": "code",
   "execution_count": 158,
   "metadata": {},
   "outputs": [
    {
     "data": {
      "text/plain": [
       "7.0"
      ]
     },
     "execution_count": 158,
     "metadata": {},
     "output_type": "execute_result"
    }
   ],
   "source": [
    "# Make a variables counts the movies per month and year\n",
    "releaseMonth_movies = movies_df.release_month\n",
    "releaseyear_movies = movies_df.release_year\n",
    "releaseMonth_movies.median() # ReleaseMonth Median"
   ]
  },
  {
   "cell_type": "code",
   "execution_count": 159,
   "metadata": {},
   "outputs": [
    {
     "data": {
      "image/png": "[encoded data removed]",
      "text/plain": [
       "<Figure size 1584x432 with 2 Axes>"
      ]
     },
     "metadata": {},
     "output_type": "display_data"
    }
   ],
   "source": [
    "# The first figure shows the Month Movies 1-D Distribution and the second one shows the year Movies 1-D Distribution\n",
    "fig, (ax1, ax2) = plt.subplots(1,2, figsize=(22, 6))\n",
    "ax1.boxplot(releaseMonth_movies, vert= False, widths= 0.6, showmeans = True)\n",
    "ax2.boxplot(releaseyear_movies, vert= False, widths= 0.6, showmeans = True)\n",
    "ax1.set(xlabel = 'Month')\n",
    "ax1.set_title('Month Movies Distribution', fontsize=15)\n",
    "ax2.set(xlabel = 'Release Year')\n",
    "ax2.set_title('Year Movies Distribution', fontsize=15)\n",
    "plt.show()"
   ]
  },
  {
   "cell_type": "markdown",
   "metadata": {},
   "source": [
    "> The Median and the mean for month containing movies is approximately equivalent equal to 7 thus  the distribution is symmetric, median does not conclude that month 7 is the most month containing movies but it's the center of our data, we already conclude before that month 10 and year of 2021 are the most already. For Year distribution the data is left skewed with alot of outliers as no old movies exists."
   ]
  },
  {
   "cell_type": "code",
   "execution_count": 187,
   "metadata": {},
   "outputs": [
    {
     "data": {
      "image/png": "[encoded data removed]",
      "text/plain": [
       "<Figure size 648x360 with 1 Axes>"
      ]
     },
     "metadata": {},
     "output_type": "display_data"
    }
   ],
   "source": [
    "# Make boolean expression for high vote > 8.2 to eliminate some languages\n",
    "high_vote = movies_df.Vote_Average > 8.2\n",
    "# Select only language row with boolean expression vote > 8.2\n",
    "Languages_high_vote = movies_df[high_vote]['Original_Language'].value_counts(normalize = True)\n",
    "Languages_high_vote.plot(kind = 'bar', figsize=(9, 5))\n",
    "plt.ylabel('Percent')\n",
    "plt.title('Normalized bar Plot for Languages Distribution, Vote > 8.2')\n",
    "plt.show()"
   ]
  },
  {
   "cell_type": "markdown",
   "metadata": {},
   "source": [
    "> It's Logical that English movies will be the most movies exists, but according to total english movies exists with no filters. English Movies must be dominating. But for score above 8.2 there are another movies language that compete which is japanese and it seems that japanese movies gets a high score.\n",
    "\n",
    "- We can ensure the above statement by value counting the total movies languages, English movies takes about 80 percent of the total movies but with score above 8 it takes only 50 percent of the movies. but japanese movies from total takes only 6 percent but with filtering only score above 8.2 it takes about 20 percent of the toal movies which a great intution."
   ]
  },
  {
   "cell_type": "code",
   "execution_count": 192,
   "metadata": {},
   "outputs": [
    {
     "data": {
      "text/plain": [
       "en    0.770327\n",
       "ja    0.065635\n",
       "es    0.034497\n",
       "fr    0.029714\n",
       "ko    0.017299\n",
       "Name: Original_Language, dtype: float64"
      ]
     },
     "execution_count": 192,
     "metadata": {},
     "output_type": "execute_result"
    }
   ],
   "source": [
    "# Calculating the percent of each language from the total movies exists\n",
    "movies_df.Original_Language.value_counts(normalize = True)[0:5] # Only largest 5 movies"
   ]
  },
  {
   "cell_type": "code",
   "execution_count": 215,
   "metadata": {},
   "outputs": [
    {
     "data": {
      "image/png": "[encoded data removed]",
      "text/plain": [
       "<Figure size 720x504 with 1 Axes>"
      ]
     },
     "metadata": {},
     "output_type": "display_data"
    }
   ],
   "source": [
    "# Plotting only movies language (probabilty) above 8.2 score \n",
    "High_Score = movies_df.query('Vote_Average >= 8.2')['Original_Language'].value_counts(normalize = True)\n",
    "data=pd.DataFrame([High_Score])\n",
    "data.index=['High Score']\n",
    "data.plot(kind='bar',stacked=True,figsize=(10,7))\n",
    "plt.ylabel('Probablity')\n",
    "plt.title('Normalized Stacked Plot for Languages Distribution, Vote > 8.2')\n",
    "plt.show()"
   ]
  },
  {
   "cell_type": "markdown",
   "metadata": {},
   "source": [
    "## Conclusions\n",
    "> We tried to figure some insights for filmmakers and we found for example that Animation, SciFi, Actions, handles the most Popularity.\n",
    "\n",
    "> Month 9 and 10 is the most, but which makes median is 7 and mean as well, as the month 1,4,5 is lower than average which makes 7 is the median.\n",
    "\n",
    "> Interesting insight: Japanese movies gets the highest vote score besides English movies according to its number of movies, All of this might come from anime series which makes high score.\n",
    "\n",
    "### Limitations:\n",
    "> For Cleanness, thre is no limitations, except for only one datatype which is release date which must be converted into dattime datatype but we cannot consider it as a limitation.\n",
    "\n",
    "> For the relationship curve between release year with popularity, we assumed that movies popularity will increase with year and the curve stated that also but not very much, the limitation here that the curve we got cannot explicitly state that the popularity increase with release year. But still no movies in old years got extra high popularities like these years which have some extra high popularity but it still nothing to figure from that."
   ]
  },
  {
   "cell_type": "markdown",
   "metadata": {},
   "source": [
    "> Name: Abdelrahman Ibrahim Karawia"
   ]
  },
  {
   "cell_type": "code",
   "execution_count": null,
   "metadata": {},
   "outputs": [],
   "source": []
  },
  {
   "cell_type": "code",
   "execution_count": null,
   "metadata": {},
   "outputs": [],
   "source": []
  }
 ],
 "metadata": {
  "kernelspec": {
   "display_name": "Python 3",
   "language": "python",
   "name": "python3"
  },
  "language_info": {
   "codemirror_mode": {
    "name": "ipython",
    "version": 3
   },
   "file_extension": ".py",
   "mimetype": "text/x-python",
   "name": "python",
   "nbconvert_exporter": "python",
   "pygments_lexer": "ipython3",
   "version": "3.7.1"
  }
 },
 "nbformat": 4,
 "nbformat_minor": 4
}
